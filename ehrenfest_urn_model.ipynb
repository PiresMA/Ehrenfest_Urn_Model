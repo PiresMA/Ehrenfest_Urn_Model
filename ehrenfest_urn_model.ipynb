{
 "cells": [
  {
   "cell_type": "markdown",
   "metadata": {},
   "source": [
    "#  Modelo das urnas de Ehrenfest\n",
    "\n",
    "Este modelo foi desenvolvido como uma plataforma para testar conceitos-chave da física estatística e campos relacionados. Por exemplo, com tal modelo pode-se ter insights sobre rota irreversível para o equilíbrio termodinâmico e o papel das flutuações nessa rota. \n",
    "\n",
    "\n",
    "* P. Ehrenfest and T. Ehrenfest, Phys. Z. 8, 311 (1907)\n",
    "* Capítulo 6 de Tomé, T., & De Oliveira, M. J. (2015). Stochastic dynamics and irreversibility. Cham: Springer. ISO 690\n",
    "* Ehrenfest Urn Problem with Applications: http://www.arcaneknowledge.org/science/ehrenfest.html\n",
    "* Casas, G. A., F. D. Nobre, and E. M. F. Curado. \"Nonlinear Ehrenfest's urn model.\" Physical Review E 91.4 (2015): 042139.\n",
    "* Clark, Jaime, et al. \"Generalization of the Ehrenfest urn model to a complex network.\" Physical Review E 92.1 (2015): 012103.\n",
    "* Tseng, Chun-Hsiung, Yee-Mou Kao, and Chi-Ho Cheng. \"Ehrenfest urn model with interaction.\" Physical Review E 96.3 (2017): 032125.\n"
   ]
  },
  {
   "cell_type": "markdown",
   "metadata": {},
   "source": [
    "\n",
    "## Regras:\n",
    "* Temos dois compartimentos (caixas,urnas) com um total de N bolas numeradas de 1 a N.\n",
    "* Inicialmente algumas destas bolas estão no compartimento 1 e o restante no compartimento 2.\n",
    "* Em cada experimento selecionamos uma bola ao acaso e a trocamos de compartimento.\n",
    "* Repita o procedimento sequencialmente\n"
   ]
  },
  {
   "cell_type": "code",
   "execution_count": 1,
   "metadata": {},
   "outputs": [],
   "source": [
    "import numpy as np\n",
    "import random as rd\n",
    "import matplotlib.pyplot as plt"
   ]
  },
  {
   "cell_type": "code",
   "execution_count": 2,
   "metadata": {},
   "outputs": [],
   "source": [
    "# funcao que devolve a quantidade de vezes\n",
    "# que o numero x aparece no vetor vec\n",
    "def ocorrencias(vec, x):\n",
    "    return float(sum(vec==x))\n",
    "\n",
    "# inicializacao: ne bolas na esquerda de um total de N\n",
    "def inicializacao(N, ne):        \n",
    "    bolas0 = np.zeros( ne, dtype=int)\n",
    "    bolas1 = np.ones(  N-ne, dtype=int)\n",
    "    urna_inicial = np.concatenate( (bolas0,bolas1), axis=None)\n",
    "    #np.random.shuffle(full)    \n",
    "    return urna_inicial\n",
    "\n",
    "# funcao para transferencia de 1 bola\n",
    "def transferenciaDeUmabola(vetor_urna):\n",
    "    numeroBolas = len(vetor_urna)    \n",
    "    sorteada    = rd.randint(0,numeroBolas-1)\n",
    "    \n",
    "    if vetor_urna[sorteada]==1: vetor_urna[sorteada]=0        \n",
    "    else: vetor_urna[sorteada]=1\n",
    "                \n",
    "    return vetor_urna"
   ]
  },
  {
   "cell_type": "code",
   "execution_count": 3,
   "metadata": {},
   "outputs": [
    {
     "name": "stdout",
     "output_type": "stream",
     "text": [
      "('t:', 0, 'ne:', 100.0, 'nd:', 0.0)\n",
      "[50]\n"
     ]
    }
   ],
   "source": [
    "# parametros\n",
    "N  = 100; \n",
    "ne = N; \n",
    "tf = 5*N\n",
    "\n",
    "\n",
    "# inicializacao\n",
    "bolaNaUrna = inicializacao(N,ne)\n",
    "\n",
    "print(\"t:\",0 ,\"ne:\", ocorrencias(bolaNaUrna, 0), \"nd:\", ocorrencias(bolaNaUrna, 1) )\n",
    "\n",
    "# vetores para guardar resultados\n",
    "vec_ne = [ ocorrencias(bolaNaUrna, 0) ]\n",
    "vec_nd = [ ocorrencias(bolaNaUrna, 1) ]\n",
    "vec_eq = [ N/2 ]\n",
    "\n",
    "print(vec_eq)\n",
    "\n",
    "# transferencia de bolas durante tf+1 instantes\n",
    "for t in range(1,tf):\n",
    "    bolaNaUrna = transferenciaDeUmabola(bolaNaUrna)\n",
    "    vec_ne.append( ocorrencias(bolaNaUrna, 0) )\n",
    "    vec_nd.append( ocorrencias(bolaNaUrna, 1) )\n",
    "    vec_eq.append(N/2)\n",
    "    "
   ]
  },
  {
   "cell_type": "code",
   "execution_count": 4,
   "metadata": {},
   "outputs": [
    {
     "data": {
      "text/plain": [
       "<matplotlib.legend.Legend at 0x7f4704433e90>"
      ]
     },
     "execution_count": 4,
     "metadata": {},
     "output_type": "execute_result"
    },
    {
     "data": {
      "image/png": "[encoded data removed]",
      "text/plain": [
       "<Figure size 432x288 with 1 Axes>"
      ]
     },
     "metadata": {
      "needs_background": "light"
     },
     "output_type": "display_data"
    }
   ],
   "source": [
    "plt.plot(vec_ne,'s',label='$n_{esquerda}$')\n",
    "plt.plot(vec_nd,'o',label='$n_{direita}$')\n",
    "plt.ylabel('$n_{bolas}$',fontsize=16)\n",
    "plt.xlabel('tempo (u.a.t.)',fontsize=16)\n",
    "plt.title('Urnas de Ehrenfest: Rota Irreversivel para o Equilibrio')\n",
    "plt.axhline(y=float(N)/2, color='k', linestyle='--',label='$n_{equilibrio}$')\n",
    "plt.legend()"
   ]
  },
  {
   "cell_type": "code",
   "execution_count": null,
   "metadata": {},
   "outputs": [],
   "source": []
  }
 ],
 "metadata": {
  "anaconda-cloud": {},
  "kernelspec": {
   "display_name": "Python [default]",
   "language": "python",
   "name": "python2"
  },
  "language_info": {
   "codemirror_mode": {
    "name": "ipython",
    "version": 2
   },
   "file_extension": ".py",
   "mimetype": "text/x-python",
   "name": "python",
   "nbconvert_exporter": "python",
   "pygments_lexer": "ipython2",
   "version": "2.7.15"
  }
 },
 "nbformat": 4,
 "nbformat_minor": 2
}
